{
 "cells": [
  {
   "attachments": {},
   "cell_type": "markdown",
   "metadata": {},
   "source": [
    "# D.A.T.A. API Query Sample\n",
    "## All 10-K\n",
    "\n",
    "This sample shows how to retrieve essential deception data for all 10-K documents in DATAbase. Please see our [docs](https://d-a-t-a.developer.azure-api.net/getting-started) for details of how to extend this simple query."
   ]
  },
  {
   "attachments": {},
   "cell_type": "markdown",
   "metadata": {},
   "source": [
    "### 1. Load Configuration\n",
    "Create a local.settings.json configuration file with the following content, and save it to the same folder as your notebook:\n",
    "\n",
    "`{\n",
    "    \"DATA\": {\n",
    "        \"API\": {\n",
    "            \"Path\": \"{path-to-api-from-documentation}\",\n",
    "            \"Key\": \"{your-api-key-from-developer-portal}\"\n",
    "        }\n",
    "    }\n",
    "}`\n",
    "\n",
    "SECURITY: Take care not to check your local.settings.json file into source control such as Github, where the key could easily be stolen."
   ]
  },
  {
   "cell_type": "code",
   "execution_count": 15,
   "metadata": {},
   "outputs": [],
   "source": [
    "import json\n",
    "\n",
    "local_config_file = \"./local.settings.json\"\n",
    "\n",
    "with open(local_config_file) as f:\n",
    "    config = json.load(f)\n",
    "\n",
    "api_path = config[\"DATA\"][\"API\"][\"Path\"]\n",
    "api_key = config[\"DATA\"][\"API\"][\"Key\"]\n",
    "\n",
    "## User ID is no longer required for this API. Just use your API key, which is automatically linked to your user account.\n",
    "##user_id = config[\"DATA\"][\"API\"][\"UserID\"]\n",
    "\n",
    "output_csv_file_path = \"./output/\"\n",
    "output_csv_file_name = None\n",
    "\n",
    "#print(api_path)"
   ]
  },
  {
   "attachments": {},
   "cell_type": "markdown",
   "metadata": {},
   "source": [
    "### 2. Configure Your GraphQL Client\n",
    "\n",
    "The DATA v1 API exposes a GraphQL endpoint, giving you the power to filter and select data as required. You can build GQL queries by hand, but it is easier to use a client library. "
   ]
  },
  {
   "cell_type": "code",
   "execution_count": 16,
   "metadata": {},
   "outputs": [],
   "source": [
    "from python_graphql_client import GraphqlClient\n",
    "\n",
    "# Your GraphQL client needs the api path and the api key\n",
    "graphql_client = GraphqlClient(endpoint=api_path, headers={\"Data-Subscription-Key\":api_key})\n"
   ]
  },
  {
   "attachments": {},
   "cell_type": "markdown",
   "metadata": {},
   "source": [
    "### 3. Set your Query Parameters\n",
    "\n",
    "You can filter on any database property. Here we're looking to download all the main document data for annual reports for this century. We can also limit the number of responses. Full queries can take some seconds to run, so limiting the responses is useful while you are testing, for a faster result."
   ]
  },
  {
   "cell_type": "code",
   "execution_count": 17,
   "metadata": {},
   "outputs": [],
   "source": [
    "# Parameters\n",
    "start_date = \"2000-01-01\"\n",
    "end_date = \"2022-12-31\"\n",
    "document_types = '[\"10-K\"]'\n",
    "\n",
    "# Paging functionality. Set to None to retrieve all. Please page up to 500 at a time for best performance.\n",
    "take = 500\n",
    "skip = None"
   ]
  },
  {
   "attachments": {},
   "cell_type": "markdown",
   "metadata": {},
   "source": [
    "### 3. Build your GraphQL Query\n",
    "\n",
    "This part requires some understanding of GraphQL, but otherwise should be quite straightforward. See our [docs](https://d-a-t-a.developer.azure-api.net/getting-started) for more details on how to filter and shape data."
   ]
  },
  {
   "cell_type": "code",
   "execution_count": 18,
   "metadata": {},
   "outputs": [],
   "source": [
    "# User id has been removed from query\n",
    "graphql_query = \"\"\"\n",
    "query {\n",
    "  companiespaged (\n",
    "    orderBy: { path: \"companyDataScore.FilingDate\", descending: true }\n",
    "    where: { groupedExpressions: [\n",
    "      { path: \"HasCompanyDataScore\", comparison: equal, value: \"true\" }\n",
    "      { path: \"companyDataScore.FinancialDocumentType\", comparison: in, \"\"\" + f'value: {document_types}' + \"\"\" },\n",
    "      { path: \"companyDataScore.FilingDate\", comparison: greaterThanOrEqual, \"\"\" + f'value: \"{start_date}\"' + \"\"\" },\n",
    "      { path: \"companyDataScore.FilingDate\", comparison: lessThanOrEqual, \"\"\" + f'value: \"{end_date}\"' + \"\"\" }\n",
    "    ]}\n",
    "    \"\"\" + (f'first: {take},' if not take is None else '')  + \"\"\"\n",
    "    \"\"\" + (f'skip: {skip},' if not skip is None else '')  + \"\"\"\n",
    "  ) {\n",
    "    totalCount\n",
    "    edges {\n",
    "      node {\n",
    "        name,\n",
    "        primaryTicker {\n",
    "            name\n",
    "        },\n",
    "        primaryIndex {\n",
    "            name\n",
    "        },\n",
    "        primarySector {\n",
    "            name\n",
    "        },\n",
    "        companyDataScore {\n",
    "            document {\n",
    "                dataScore,\n",
    "                words,\n",
    "                deceptiveFragmentsCount,\n",
    "                truthfulFragmentsCount,\n",
    "                shortTermFocus,\n",
    "                longTermFocus,\n",
    "                internalFocus,\n",
    "                externalFocus\n",
    "            },\n",
    "            financialUncertainty\n",
    "            filingDate,\n",
    "            period {\n",
    "                year,\n",
    "                quarter\n",
    "            }\n",
    "        }\n",
    "      }\n",
    "    }\n",
    "  }\n",
    "}\n",
    "\"\"\"\n",
    "\n",
    "#print(graphql_query)"
   ]
  },
  {
   "attachments": {},
   "cell_type": "markdown",
   "metadata": {},
   "source": [
    "### 4. Execute your GraphQL Query\n",
    "\n",
    "For queries with large date ranges and no query_limit set, data can be up to 50MB, and queries can take some time to complete."
   ]
  },
  {
   "cell_type": "code",
   "execution_count": 19,
   "metadata": {},
   "outputs": [
    {
     "name": "stdout",
     "output_type": "stream",
     "text": [
      "63802\n"
     ]
    }
   ],
   "source": [
    "graphql_result = await graphql_client.execute_async(query=graphql_query)\n",
    "\n",
    "try:\n",
    "    print(graphql_result[\"data\"][\"companiespaged\"][\"totalCount\"])\n",
    "except Exception as ex:\n",
    "    print(graphql_result)\n",
    "    print(ex)"
   ]
  },
  {
   "attachments": {},
   "cell_type": "markdown",
   "metadata": {},
   "source": [
    "### 5. Print the results to a csv file\n",
    "\n"
   ]
  },
  {
   "cell_type": "code",
   "execution_count": 20,
   "metadata": {},
   "outputs": [
    {
     "name": "stdout",
     "output_type": "stream",
     "text": [
      "Wrote 500 to csv\n"
     ]
    }
   ],
   "source": [
    "import pandas as pd\n",
    "from datetime import datetime\n",
    "\n",
    "flattened_results = []\n",
    "\n",
    "for edge in graphql_result[\"data\"][\"companiespaged\"][\"edges\"]:\n",
    "    flattened:dict = dict()\n",
    "    flattened[\"Name\"] = edge[\"node\"][\"name\"]\n",
    "    flattened[\"Ticker\"] = edge[\"node\"][\"primaryTicker\"][\"name\"]\n",
    "    flattened[\"Index\"] = edge[\"node\"][\"primaryIndex\"][\"name\"]\n",
    "    flattened[\"Sector\"] = edge[\"node\"][\"primarySector\"][\"name\"]\n",
    "    flattened[\"Filing Date\"] = str(edge[\"node\"][\"companyDataScore\"][\"filingDate\"]).split(\"T\")[0]\n",
    "    flattened[\"Fiscal Year\"] = edge[\"node\"][\"companyDataScore\"][\"period\"][\"year\"]\n",
    "    flattened[\"Fiscal Quarter\"] = edge[\"node\"][\"companyDataScore\"][\"period\"][\"quarter\"]\n",
    "    flattened[\"Data Score\"] = edge[\"node\"][\"companyDataScore\"][\"document\"][\"dataScore\"]\n",
    "    flattened[\"Words\"] = edge[\"node\"][\"companyDataScore\"][\"document\"][\"words\"]\n",
    "    flattened[\"Deceptive Fragments Count\"] = edge[\"node\"][\"companyDataScore\"][\"document\"][\"deceptiveFragmentsCount\"]\n",
    "    flattened[\"Truthful Fragments Count\"] = edge[\"node\"][\"companyDataScore\"][\"document\"][\"truthfulFragmentsCount\"]\n",
    "    if (edge[\"node\"][\"companyDataScore\"][\"document\"][\"deceptiveFragmentsCount\"] + edge[\"node\"][\"companyDataScore\"][\"document\"][\"truthfulFragmentsCount\"]) > 0:\n",
    "        flattened[\"Percentage Deceptive Fragments\"] = edge[\"node\"][\"companyDataScore\"][\"document\"][\"deceptiveFragmentsCount\"] / (edge[\"node\"][\"companyDataScore\"][\"document\"][\"deceptiveFragmentsCount\"] + edge[\"node\"][\"companyDataScore\"][\"document\"][\"truthfulFragmentsCount\"])\n",
    "    else:\n",
    "        flattened[\"Percentage Deceptive Fragments\"] = None\n",
    "    flattened[\"Long Term Focus\"] = edge[\"node\"][\"companyDataScore\"][\"document\"][\"longTermFocus\"]\n",
    "    flattened[\"Short Term Focus\"] = edge[\"node\"][\"companyDataScore\"][\"document\"][\"shortTermFocus\"]\n",
    "    flattened[\"Internal Focus\"] = edge[\"node\"][\"companyDataScore\"][\"document\"][\"internalFocus\"]\n",
    "    flattened[\"External Focus\"] = edge[\"node\"][\"companyDataScore\"][\"document\"][\"externalFocus\"]\n",
    "    flattened[\"Financial Uncertainty\"] = edge[\"node\"][\"companyDataScore\"][\"financialUncertainty\"]\n",
    "    flattened_results.append(flattened)\n",
    "\n",
    "df = pd.read_json(json.dumps(flattened_results))\n",
    "\n",
    "file_path = (output_csv_file_path + output_csv_file_name) if not output_csv_file_name is None else output_csv_file_path + \"output-\" + str(datetime.now().timestamp()) + \".csv\"\n",
    "\n",
    "df.to_csv(file_path, encoding='utf-8', index=False)\n",
    "\n",
    "print(\"Wrote \" + str(len(flattened_results)) + \" to csv\")\n"
   ]
  }
 ],
 "metadata": {
  "kernelspec": {
   "display_name": ".venv",
   "language": "python",
   "name": "python3"
  },
  "language_info": {
   "codemirror_mode": {
    "name": "ipython",
    "version": 3
   },
   "file_extension": ".py",
   "mimetype": "text/x-python",
   "name": "python",
   "nbconvert_exporter": "python",
   "pygments_lexer": "ipython3",
   "version": "3.10.0"
  },
  "orig_nbformat": 4,
  "vscode": {
   "interpreter": {
    "hash": "091006ace7a6c5f98d541cda7a58f0eafcc74aa582b76637ddb306bba207922a"
   }
  }
 },
 "nbformat": 4,
 "nbformat_minor": 2
}
