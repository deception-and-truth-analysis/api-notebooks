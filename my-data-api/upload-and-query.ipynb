{
 "cells": [
  {
   "cell_type": "code",
   "execution_count": 55,
   "metadata": {},
   "outputs": [],
   "source": [
    "import json\n",
    "\n",
    "local_config_file = \"./local.settings.json\"\n",
    "\n",
    "with open(local_config_file) as f:\n",
    "    config = json.load(f)\n",
    "\n",
    "api_path = config[\"DATA\"][\"API\"][\"Path\"]\n",
    "api_key = config[\"DATA\"][\"API\"][\"Key\"]\n",
    "user_id = config[\"DATA\"][\"API\"][\"UserID\"]\n",
    "organization_id = config[\"DATA\"][\"API\"][\"OrganizationID\"]\n",
    "user_name = config[\"DATA\"][\"API\"][\"UserName\"]\n",
    "process_files = config[\"DATA\"][\"API\"][\"Methods\"][\"ProcessFiles\"]\n",
    "\n",
    "local_files_folder = config[\"Local\"][\"FilesFolder\"]\n",
    "\n",
    "#print(local_files_folder)"
   ]
  },
  {
   "cell_type": "code",
   "execution_count": 56,
   "metadata": {},
   "outputs": [],
   "source": [
    "import os\n",
    "\n",
    "files_to_upload = []\n",
    "\n",
    "for root, dirs, files in os.walk(local_files_folder):\n",
    "    for file in files:\n",
    "        if file.endswith(\".txt\"):\n",
    "            files_to_upload.append(os.path.join(root, file))\n",
    "            #print(os.path.join(root, file))"
   ]
  },
  {
   "cell_type": "code",
   "execution_count": 57,
   "metadata": {},
   "outputs": [],
   "source": [
    "from typing import List\n",
    "    \n",
    "def get_mime_type(file_path:str):\n",
    "    mime_type = \"application/octet-stream\"\n",
    "\n",
    "    if file_path.endswith(\".pdf\"):\n",
    "        mime_type = \"application/pdf\"\n",
    "    elif file_path.endswith(\".docx\"):\n",
    "        mime_type = \"application/vnd.openxmlformats-officedocument.wordprocessingml.document\"\n",
    "    elif file_path.endswith(\".doc\"):\n",
    "        mime_type = \"application/msword\"\n",
    "    elif file_path.endswith(\".txt\"):\n",
    "        mime_type = \"text/plain\"\n",
    "\n",
    "    return mime_type\n",
    "\n",
    "class FileProcessingInputData:\n",
    "    UserId:str\n",
    "    OrganizationId:str\n",
    "    UserName:str\n",
    "    FileId:str\n",
    "    ScoreMarginalDocuments:bool\n",
    "    Tags:List[str]\n",
    "    Properties:dict\n",
    "\n",
    "def get_file_data(file_path:str):\n",
    "    file_data = FileProcessingInputData()\n",
    "    file_data.UserId = user_id\n",
    "    file_data.OrganizationId = organization_id\n",
    "    file_data.UserName = user_name\n",
    "    file_data.FileId = os.path.basename(file_path)\n",
    "    file_data.ScoreMarginalDocuments = True\n",
    "\n",
    "    return file_data"
   ]
  },
  {
   "cell_type": "code",
   "execution_count": 58,
   "metadata": {},
   "outputs": [],
   "source": [
    "import requests\n",
    "from io import StringIO\n",
    "\n",
    "api_process_files_path = f'{api_path}/{process_files}'\n",
    "\n",
    "def upload_document(file_data:FileProcessingInputData, file_path:str):\n",
    "    \n",
    "    \n",
    "    \n",
    "    url = api_process_files_path\n",
    "    headers = {\"Data-Subscription-Key\": api_key}\n",
    "\n",
    "    data_json = StringIO(json.dumps(file_data, default=vars))\n",
    "    file = open(file_path, \"rb\").read()\n",
    "    files = {\"json\": (None, data_json, \"application/json; charset=UTF-8\"), file_data.FileId: (file_data.FileId, file, get_mime_type(file_path))}\n",
    "\n",
    "    response = requests.post(url, headers=headers, files=files)\n",
    "    print(str(response.status_code) + \" \" + response.reason + \" \" + response.text)\n"
   ]
  },
  {
   "cell_type": "code",
   "execution_count": 59,
   "metadata": {},
   "outputs": [
    {
     "name": "stdout",
     "output_type": "stream",
     "text": [
      "202 Accepted PROCESSING\n",
      "202 Accepted PROCESSING\n",
      "202 Accepted PROCESSING\n",
      "202 Accepted PROCESSING\n",
      "202 Accepted PROCESSING\n",
      "202 Accepted PROCESSING\n"
     ]
    }
   ],
   "source": [
    "for file_path in files_to_upload:\n",
    "    file_data = get_file_data(file_path)\n",
    "    upload_document(file_data, file_path)"
   ]
  }
 ],
 "metadata": {
  "kernelspec": {
   "display_name": ".venv",
   "language": "python",
   "name": "python3"
  },
  "language_info": {
   "codemirror_mode": {
    "name": "ipython",
    "version": 3
   },
   "file_extension": ".py",
   "mimetype": "text/x-python",
   "name": "python",
   "nbconvert_exporter": "python",
   "pygments_lexer": "ipython3",
   "version": "3.10.0"
  },
  "orig_nbformat": 4
 },
 "nbformat": 4,
 "nbformat_minor": 2
}
